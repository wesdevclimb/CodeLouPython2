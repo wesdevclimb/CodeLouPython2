{
 "cells": [
  {
   "cell_type": "code",
   "execution_count": 3,
   "metadata": {},
   "outputs": [],
   "source": [
    "import pandas as pd\n",
    "import pyreadstat\n",
    "#pyreadstat is not an optional dependency despite the importerror messages saying so. I tried installing it with conda but it\n",
    "#said that the package was unavailable. I installed it using pip and had success. I'm not sure if using the two different \n",
    "#package managers will cause problems."
   ]
  },
  {
   "cell_type": "code",
   "execution_count": 4,
   "metadata": {},
   "outputs": [],
   "source": [
    "CCGA2012df = pd.read_spss('SPSSdataFiles\\\\2012public.sav')\n",
    "CCGA2014df = pd.read_spss('SPSSdataFiles\\\\2014public.sav')\n",
    "CCGA2016df = pd.read_spss('SPSSdataFiles\\\\2016ChicagoCouncilSurvey-DataSet.sav')\n",
    "CCGA2017df = pd.read_spss('SPSSdataFiles\\\\2017public.sav')\n",
    "CCGA2019df = pd.read_spss('SPSSdataFiles\\\\2019 Chicago Council Survey - Datafile.sav')\n",
    "CCGA2020df = pd.read_spss('SPSSdataFiles\\\\20-039675-01_Chicago Council_2020 Annual Survey_Main_Client.sav')"
   ]
  },
  {
   "cell_type": "markdown",
   "metadata": {},
   "source": [
    "After all of the files are read in, I might consider merging all of the dataframes into a single dataframe containing just the response to Q21, statistical weight, demographic information like race, gender, age, political identity, and one new column corresponding to the year that the data was collected.  "
   ]
  },
  {
   "cell_type": "code",
   "execution_count": 5,
   "metadata": {},
   "outputs": [
    {
     "data": {
      "text/plain": [
       "0        No greater than other nations\n",
       "1        No greater than other nations\n",
       "2    The greatest country in the world\n",
       "3    The greatest country in the world\n",
       "4    The greatest country in the world\n",
       "5    The greatest country in the world\n",
       "Name: Q21, dtype: category\n",
       "Categories (3, object): [No greater than other nations, Refused, The greatest country in the world]"
      ]
     },
     "execution_count": 5,
     "metadata": {},
     "output_type": "execute_result"
    }
   ],
   "source": [
    "CCGA2012df.loc[:5,'Q21']"
   ]
  },
  {
   "cell_type": "code",
   "execution_count": 6,
   "metadata": {},
   "outputs": [
    {
     "data": {
      "text/plain": [
       "0    The greatest country in the world\n",
       "1        No greater than other nations\n",
       "2    The greatest country in the world\n",
       "3    The greatest country in the world\n",
       "4    The greatest country in the world\n",
       "5    The greatest country in the world\n",
       "Name: q21, dtype: category\n",
       "Categories (3, object): [No greater than other nations, Refused, The greatest country in the world]"
      ]
     },
     "execution_count": 6,
     "metadata": {},
     "output_type": "execute_result"
    }
   ],
   "source": [
    "CCGA2014df.loc[:5, 'q21']\n",
    "#this is the only data file that uses a lowercase Q. I should probably change all of the column names to do this."
   ]
  },
  {
   "cell_type": "code",
   "execution_count": 7,
   "metadata": {},
   "outputs": [
    {
     "data": {
      "text/plain": [
       "0    The greatest country in the world\n",
       "1        No greater than other nations\n",
       "2    The greatest country in the world\n",
       "3    The greatest country in the world\n",
       "4        No greater than other nations\n",
       "5        No greater than other nations\n",
       "Name: Q21, dtype: category\n",
       "Categories (3, object): [No greater than other nations, Refused, The greatest country in the world]"
      ]
     },
     "execution_count": 7,
     "metadata": {},
     "output_type": "execute_result"
    }
   ],
   "source": [
    "CCGA2016df.loc[:5, 'Q21']"
   ]
  },
  {
   "cell_type": "code",
   "execution_count": 8,
   "metadata": {},
   "outputs": [
    {
     "data": {
      "text/plain": [
       "0    The greatest country in the world\n",
       "1        No greater than other nations\n",
       "2    The greatest country in the world\n",
       "3    The greatest country in the world\n",
       "4        No greater than other nations\n",
       "5        No greater than other nations\n",
       "Name: Q21, dtype: category\n",
       "Categories (3, object): [No greater than other nations, Refused, The greatest country in the world]"
      ]
     },
     "execution_count": 8,
     "metadata": {},
     "output_type": "execute_result"
    }
   ],
   "source": [
    "CCGA2017df.loc[:5, 'Q21']"
   ]
  },
  {
   "cell_type": "code",
   "execution_count": 10,
   "metadata": {},
   "outputs": [
    {
     "data": {
      "text/plain": [
       "0    The greatest country in the world\n",
       "1    The greatest country in the world\n",
       "2        No greater than other nations\n",
       "3        No greater than other nations\n",
       "4    The greatest country in the world\n",
       "5        No greater than other nations\n",
       "Name: Q21, dtype: category\n",
       "Categories (3, object): [No greater than other nations, Refused, The greatest country in the world]"
      ]
     },
     "execution_count": 10,
     "metadata": {},
     "output_type": "execute_result"
    }
   ],
   "source": [
    "CCGA2019df.loc[:5, 'Q21']"
   ]
  },
  {
   "cell_type": "code",
   "execution_count": 11,
   "metadata": {},
   "outputs": [
    {
     "data": {
      "text/plain": [
       "0        No greater than other nations\n",
       "1        No greater than other nations\n",
       "2    The greatest country in the world\n",
       "3    The greatest country in the world\n",
       "4        No greater than other nations\n",
       "5        No greater than other nations\n",
       "Name: Q21, dtype: category\n",
       "Categories (3, object): [No greater than other nations, Refused, The greatest country in the world]"
      ]
     },
     "execution_count": 11,
     "metadata": {},
     "output_type": "execute_result"
    }
   ],
   "source": [
    "CCGA2020df.loc[:5, 'Q21']"
   ]
  },
  {
   "cell_type": "code",
   "execution_count": 13,
   "metadata": {},
   "outputs": [
    {
     "name": "stdout",
     "output_type": "stream",
     "text": [
      "      CaseID  weight            tm_start           tm_finish   duration  \\\n",
      "0        2.0  0.6498 2020-07-02 11:47:40 2020-07-02 11:56:49   9.150000   \n",
      "1        3.0  1.1964 2020-07-02 11:49:48 2020-07-02 11:59:13   9.416667   \n",
      "2        4.0  0.8662 2020-07-02 11:45:44 2020-07-02 11:59:51  14.100000   \n",
      "3        5.0  0.9899 2020-07-02 11:50:46 2020-07-02 12:00:13   9.450000   \n",
      "4        7.0  1.4103 2020-07-02 11:49:37 2020-07-02 12:01:49  12.183333   \n",
      "...      ...     ...                 ...                 ...        ...   \n",
      "2106  2203.0  1.2401 2020-07-19 14:24:48 2020-07-19 14:56:06  31.283333   \n",
      "2107  2204.0  1.0211 2020-07-19 17:19:26 2020-07-19 17:28:30   9.066667   \n",
      "2108  2205.0  0.6626 2020-07-19 16:55:57 2020-07-19 17:45:22  49.416667   \n",
      "2109  2206.0  0.9713 2020-07-19 18:09:41 2020-07-19 18:25:20  15.650000   \n",
      "2110  2208.0  1.2000 2020-07-19 19:23:12 2020-07-19 19:47:53  24.666667   \n",
      "\n",
      "          QFLAG                                  xhispan   xzip      LATITUDE  \\\n",
      "0     Qualified                             No, I am not  45409  39.715480673   \n",
      "1     Qualified                             No, I am not  15221  40.411086921   \n",
      "2     Qualified                             No, I am not  37841  36.515193842   \n",
      "3     Qualified                             No, I am not  94552  37.712431248   \n",
      "4     Qualified                             No, I am not  94043  37.407816485   \n",
      "...         ...                                      ...    ...           ...   \n",
      "2106  Qualified                             No, I am not  71640  33.090950049   \n",
      "2107  Qualified                             No, I am not  42261  37.160451643   \n",
      "2108  Qualified                             No, I am not  14522  43.059500842   \n",
      "2109  Qualified                             No, I am not  32073  30.180064921   \n",
      "2110  Qualified  Yes, Mexican, Mexican-American, Chicano  92344  34.419104436   \n",
      "\n",
      "           LONGITUDE  ...   PPMSACAT     PPREG4              ppreg9  \\\n",
      "0      -84.196615782  ...      Metro    Midwest  East-North Central   \n",
      "1       -79.84906997  ...      Metro  Northeast        Mid-Atlantic   \n",
      "2      -84.498242564  ...  Non-Metro      South  East-South Central   \n",
      "3     -122.027194346  ...      Metro       West             Pacific   \n",
      "4     -122.061807406  ...      Metro       West             Pacific   \n",
      "...              ...  ...        ...        ...                 ...   \n",
      "2106   -91.277701643  ...  Non-Metro      South  West-South Central   \n",
      "2107   -86.685011643  ...      Metro      South  East-South Central   \n",
      "2108   -77.236486267  ...      Metro  Northeast        Mid-Atlantic   \n",
      "2109   -81.729282782  ...      Metro      South      South Atlantic   \n",
      "2110  -117.362489436  ...      Metro       West             Pacific   \n",
      "\n",
      "                                                 PPRENT PPSTATEN PPT01 PPT25  \\\n",
      "0     Owned or being bought by you or someone in you...       OH   0.0   0.0   \n",
      "1     Owned or being bought by you or someone in you...       PA   1.0   0.0   \n",
      "2                                       Rented for cash       TN   0.0   0.0   \n",
      "3     Owned or being bought by you or someone in you...       CA   0.0   0.0   \n",
      "4     Owned or being bought by you or someone in you...       CA   1.0   0.0   \n",
      "...                                                 ...      ...   ...   ...   \n",
      "2106  Owned or being bought by you or someone in you...       AR   0.0   0.0   \n",
      "2107  Owned or being bought by you or someone in you...       KY   0.0   0.0   \n",
      "2108  Owned or being bought by you or someone in you...       NY   0.0   0.0   \n",
      "2109  Owned or being bought by you or someone in you...       FL   0.0   0.0   \n",
      "2110  Owned or being bought by you or someone in you...       CA   0.0   0.0   \n",
      "\n",
      "     PPT612 PPT1317 PPT18OV  \n",
      "0       0.0     1.0     3.0  \n",
      "1       0.0     0.0     2.0  \n",
      "2       0.0     0.0     2.0  \n",
      "3       2.0     2.0     3.0  \n",
      "4       0.0     0.0     2.0  \n",
      "...     ...     ...     ...  \n",
      "2106    0.0     0.0     3.0  \n",
      "2107    0.0     2.0     2.0  \n",
      "2108    0.0     0.0     2.0  \n",
      "2109    2.0     0.0     2.0  \n",
      "2110    0.0     0.0     2.0  \n",
      "\n",
      "[2111 rows x 355 columns]\n"
     ]
    }
   ],
   "source": [
    "print(CCGA2020df)"
   ]
  },
  {
   "cell_type": "code",
   "execution_count": 14,
   "metadata": {},
   "outputs": [
    {
     "data": {
      "text/plain": [
       "2111"
      ]
     },
     "execution_count": 14,
     "metadata": {},
     "output_type": "execute_result"
    }
   ],
   "source": [
    "len(CCGA2020df)"
   ]
  },
  {
   "cell_type": "code",
   "execution_count": 21,
   "metadata": {},
   "outputs": [
    {
     "data": {
      "text/plain": [
       "0       False\n",
       "1       False\n",
       "2        True\n",
       "3        True\n",
       "4       False\n",
       "        ...  \n",
       "2106     True\n",
       "2107     True\n",
       "2108    False\n",
       "2109     True\n",
       "2110     True\n",
       "Name: Q21, Length: 2111, dtype: bool"
      ]
     },
     "execution_count": 21,
     "metadata": {},
     "output_type": "execute_result"
    }
   ],
   "source": [
    "exceptionalism_2012_mask=CCGA2012df['Q21'] == \"The greatest country in the world\"\n",
    "exceptionalism_2014_mask=CCGA2014df['q21'] == \"The greatest country in the world\"\n",
    "exceptionalism_2016_mask=CCGA2016df['Q21'] == \"The greatest country in the world\"\n",
    "exceptionalism_2017_mask=CCGA2017df['Q21'] == \"The greatest country in the world\"\n",
    "exceptionalism_2019_mask=CCGA2019df['Q21'] == \"The greatest country in the world\"\n",
    "exceptionalism_2020_mask=CCGA2020df['Q21'] == \"The greatest country in the world\"\n",
    "exceptionalism_2020_mask"
   ]
  },
  {
   "cell_type": "code",
   "execution_count": 29,
   "metadata": {},
   "outputs": [
    {
     "name": "stdout",
     "output_type": "stream",
     "text": [
      "[70.378263185935, 66.46110056925995, 62.73653566229985, 63.44202898550725, 58.76639145216125, 57.555660824253906]\n"
     ]
    }
   ],
   "source": [
    "sample_means_ls = [\n",
    "    ((len(CCGA2012df[exceptionalism_2012_mask])/len(CCGA2012df))*100),\n",
    "    ((len(CCGA2014df[exceptionalism_2014_mask])/len(CCGA2014df))*100),\n",
    "    ((len(CCGA2016df[exceptionalism_2016_mask])/len(CCGA2016df))*100),\n",
    "    ((len(CCGA2017df[exceptionalism_2017_mask])/len(CCGA2017df))*100),\n",
    "    ((len(CCGA2019df[exceptionalism_2019_mask])/len(CCGA2019df))*100),\n",
    "    ((len(CCGA2020df[exceptionalism_2020_mask])/len(CCGA2020df))*100)\n",
    "]\n",
    "\n",
    "print(sample_means_ls)"
   ]
  },
  {
   "cell_type": "code",
   "execution_count": 51,
   "metadata": {},
   "outputs": [
    {
     "data": {
      "text/plain": [
       "[0.7006456420162835,\n",
       " 0.6469217071957698,\n",
       " 0.610721606726692,\n",
       " 0.6291128640809741,\n",
       " 0.5670888505542082,\n",
       " 0.5427296651286607]"
      ]
     },
     "execution_count": 51,
     "metadata": {},
     "output_type": "execute_result"
    }
   ],
   "source": [
    "# To get the weighted mean I use a booleanmask to select the values that responded with \"The greatest country in the world\"\n",
    "# and put the sum of the weights of those responses over the total of the weights. Effectively treating the response of\n",
    "# \"The greatest country in the world\" as equal to 1.\n",
    "\n",
    "# weighted_mean_formula = (df[weight]*df[response as a number]).sum()/df[weight].sum()\n",
    "\n",
    "# The way that the weights are calculated can differ from year to year. 2017 had like 8 different weight variables.\n",
    "\n",
    "weighted_means_ls= [\n",
    "    CCGA2012df[exceptionalism_2012_mask]['weight1'].sum()/CCGA2012df['weight1'].sum(),\n",
    "    CCGA2014df[exceptionalism_2014_mask]['weight1'].sum()/CCGA2014df['weight1'].sum(),\n",
    "    CCGA2016df[exceptionalism_2016_mask]['Weight'].sum()/CCGA2016df['Weight'].sum(),\n",
    "    CCGA2017df[exceptionalism_2017_mask]['Weight1'].sum()/CCGA2017df['Weight1'].sum(),\n",
    "    CCGA2019df[exceptionalism_2019_mask]['weight'].sum()/CCGA2019df['weight'].sum(),\n",
    "    CCGA2020df[exceptionalism_2020_mask]['weight'].sum()/CCGA2020df['weight'].sum()\n",
    "]\n",
    "\n",
    "weighted_means_ls"
   ]
  },
  {
   "cell_type": "markdown",
   "metadata": {},
   "source": [
    "As for plotting, I should do a bar chart for support for American Exceptionalism for each year by political party. Y axis is percent of respondents who say that the US is \"the greatest country in the world.\" The two bars in the group are Republican and Democrat. So the visualization will demonstrate total support for each year and accurately represent the percentages in the above cells but will seperate those percentages into different bars by political party, (or other demographic variables.)\n",
    "Age bins will correspond to the Pew Research Center reccommended generational age ranges which can be found here... https://www.beresfordresearch.com/age-range-by-generation/ "
   ]
  }
 ],
 "metadata": {
  "kernelspec": {
   "display_name": "Python 3",
   "language": "python",
   "name": "python3"
  },
  "language_info": {
   "codemirror_mode": {
    "name": "ipython",
    "version": 3
   },
   "file_extension": ".py",
   "mimetype": "text/x-python",
   "name": "python",
   "nbconvert_exporter": "python",
   "pygments_lexer": "ipython3",
   "version": "3.8.3"
  }
 },
 "nbformat": 4,
 "nbformat_minor": 4
}
