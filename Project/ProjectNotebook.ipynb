{
 "cells": [
  {
   "cell_type": "code",
   "execution_count": 136,
   "metadata": {},
   "outputs": [],
   "source": [
    "import pandas as pd\n",
    "import pyreadstat\n",
    "import scipy.stats as sp\n",
    "#pyreadstat is not an optional dependency despite the importerror messages saying so. I tried installing it with conda but it\n",
    "#said that the package was unavailable. I installed it using pip and had success. I'm not sure if using the two different \n",
    "#package managers will cause problems."
   ]
  },
  {
   "cell_type": "code",
   "execution_count": 137,
   "metadata": {},
   "outputs": [],
   "source": [
    "CCGA2012df = pd.read_spss('SPSSdataFiles/2012public.sav')\n",
    "CCGA2014df = pd.read_spss('SPSSdataFiles/2014public.sav')\n",
    "CCGA2016df = pd.read_spss('SPSSdataFiles/2016ChicagoCouncilSurvey-DataSet.sav')\n",
    "CCGA2017df = pd.read_spss('SPSSdataFiles/2017public.sav')\n",
    "CCGA2019df = pd.read_spss('SPSSdataFiles/2019 Chicago Council Survey - Datafile.sav')\n",
    "CCGA2020df = pd.read_spss('SPSSdataFiles/20-039675-01_Chicago Council_2020 Annual Survey_Main_Client.sav')"
   ]
  },
  {
   "cell_type": "code",
   "execution_count": 138,
   "metadata": {
    "scrolled": true
   },
   "outputs": [
    {
     "data": {
      "text/plain": [
       "[('CaseID', True),\n",
       " ('CaseID', False),\n",
       " ('CaseID', True),\n",
       " ('CaseID', True),\n",
       " ('CaseID', True),\n",
       " ('CaseID', True),\n",
       " ('ppagect4', True),\n",
       " ('ppagect4', False),\n",
       " ('ppagect4', True),\n",
       " ('ppagect4', True),\n",
       " ('ppagect4', True),\n",
       " ('ppagect4', True),\n",
       " ('Q1010', True),\n",
       " ('Q1010', False),\n",
       " ('Q1010', True),\n",
       " ('Q1010', True),\n",
       " ('Q1010', True),\n",
       " ('Q1010', True),\n",
       " ('partyid3nl', False),\n",
       " ('partyid3nl', False),\n",
       " ('partyid3nl', False),\n",
       " ('partyid3nl', True),\n",
       " ('partyid3nl', False),\n",
       " ('partyid3nl', False),\n",
       " ('PPGENDER', True),\n",
       " ('PPGENDER', False),\n",
       " ('PPGENDER', True),\n",
       " ('PPGENDER', True),\n",
       " ('PPGENDER', True),\n",
       " ('PPGENDER', True),\n",
       " ('PPETHM', True),\n",
       " ('PPETHM', False),\n",
       " ('PPETHM', True),\n",
       " ('PPETHM', True),\n",
       " ('PPETHM', True),\n",
       " ('PPETHM', True),\n",
       " ('weight', False),\n",
       " ('weight', False),\n",
       " ('weight', False),\n",
       " ('weight', False),\n",
       " ('weight', True),\n",
       " ('weight', True),\n",
       " ('Weight', False),\n",
       " ('Weight', False),\n",
       " ('Weight', True),\n",
       " ('Weight', False),\n",
       " ('Weight', False),\n",
       " ('Weight', False),\n",
       " ('weight1', True),\n",
       " ('weight1', True),\n",
       " ('weight1', False),\n",
       " ('weight1', False),\n",
       " ('weight1', False),\n",
       " ('weight1', False)]"
      ]
     },
     "execution_count": 138,
     "metadata": {},
     "output_type": "execute_result"
    }
   ],
   "source": [
    "# Here I using a list of possible column names from the codebooks for each dataset and testing \n",
    "# to see if they are present in each year of CCGA data.\n",
    "# 2014 was the least consistent in column names.\n",
    "\n",
    "iterable_list_of_dfs = [CCGA2012df, CCGA2014df, CCGA2016df, CCGA2017df, CCGA2019df, CCGA2020df]\n",
    "test_column_names = ['CaseID', 'ppagect4', 'Q1010', 'partyid3nl', 'PPGENDER', 'PPETHM', 'weight', 'Weight', 'weight1']\n",
    "empty_ls = []\n",
    "\n",
    "for col_name in test_column_names:\n",
    "    for df in iterable_list_of_dfs:\n",
    "        empty_ls.append(tuple((col_name, col_name in list(df))))\n",
    "       \n",
    "empty_ls"
   ]
  },
  {
   "cell_type": "markdown",
   "metadata": {},
   "source": [
    "## Here I am standardizing the column names for each year of survey data and then merging the frames with a keyed hierarchical index that corresponds to the year that each survey was taken. "
   ]
  },
  {
   "cell_type": "code",
   "execution_count": 139,
   "metadata": {},
   "outputs": [
    {
     "name": "stderr",
     "output_type": "stream",
     "text": [
      "C:\\Users\\wesle\\Anaconda3\\lib\\site-packages\\pandas\\core\\frame.py:4125: SettingWithCopyWarning: \n",
      "A value is trying to be set on a copy of a slice from a DataFrame\n",
      "\n",
      "See the caveats in the documentation: https://pandas.pydata.org/pandas-docs/stable/user_guide/indexing.html#returning-a-view-versus-a-copy\n",
      "  return super().rename(\n"
     ]
    }
   ],
   "source": [
    "clean_2012df = CCGA2012df[['CaseID', 'Q21', 'Q1010', \"weight1\", \"PPGENDER\", \"PPETHM\", \"ppagect4\"]]\n",
    "clean_2012df.rename(columns = {\n",
    "    'weight1':'Weight'\n",
    "}, inplace=True)"
   ]
  },
  {
   "cell_type": "code",
   "execution_count": 140,
   "metadata": {
    "scrolled": true
   },
   "outputs": [],
   "source": [
    "clean_2014df = CCGA2014df[[\"Respondent_Serial\", \"q21\", \"q1010\", \"weight1\", \"ppgender\", \"ppethm\", \"ppage\"]]\n",
    "clean_2014df.rename(columns = {\n",
    "    'Respondent_Serial':'CaseID', 'q21':'Q21', 'q1010':'Q1010', 'weight1':'Weight', 'ppgender':'PPGENDER', 'ppethm':'PPETHM', 'ppage':'ppagect4'\n",
    "}, inplace=True)"
   ]
  },
  {
   "cell_type": "code",
   "execution_count": 141,
   "metadata": {},
   "outputs": [],
   "source": [
    "clean_2016df = CCGA2016df[['CaseID', 'Q21', 'Q1010', \"Weight\", \"PPGENDER\", \"PPETHM\", \"ppagect4\"]]"
   ]
  },
  {
   "cell_type": "code",
   "execution_count": 142,
   "metadata": {
    "scrolled": true
   },
   "outputs": [],
   "source": [
    "clean_2017df = CCGA2017df[['CaseID', 'Q21', 'Q1010', \"Weight1\", \"PPGENDER\", \"PPETHM\", \"ppagect4\"]]\n",
    "clean_2017df.rename(columns = {\n",
    "    'Weight1':'Weight'\n",
    "}, inplace=True)"
   ]
  },
  {
   "cell_type": "code",
   "execution_count": 143,
   "metadata": {
    "scrolled": true
   },
   "outputs": [],
   "source": [
    "clean_2019df = CCGA2019df[['CaseID', 'Q21', 'Q1010', \"weight\", \"PPGENDER\", \"PPETHM\", \"ppagect4\"]]\n",
    "clean_2019df.rename(columns = {\n",
    "    'weight':'Weight'\n",
    "}, inplace=True)"
   ]
  },
  {
   "cell_type": "code",
   "execution_count": 144,
   "metadata": {
    "scrolled": true
   },
   "outputs": [],
   "source": [
    "clean_2020df = CCGA2020df[['CaseID', 'Q21', 'Q1010', \"weight\", \"PPGENDER\", \"PPETHM\", \"ppagect4\"]]\n",
    "clean_2020df.rename(columns = {\n",
    "    'weight':'Weight'\n",
    "}, inplace=True)"
   ]
  },
  {
   "cell_type": "code",
   "execution_count": 145,
   "metadata": {},
   "outputs": [
    {
     "name": "stdout",
     "output_type": "stream",
     "text": [
      "                                    Q21        Q1010\n",
      "0         No greater than other nations  Independent\n",
      "1         No greater than other nations     Democrat\n",
      "2     The greatest country in the world  Independent\n",
      "3     The greatest country in the world   Republican\n",
      "4     The greatest country in the world   Republican\n",
      "...                                 ...          ...\n",
      "1872  The greatest country in the world   Republican\n",
      "1873  The greatest country in the world   Republican\n",
      "1874      No greater than other nations     Democrat\n",
      "1875  The greatest country in the world     Democrat\n",
      "1876  The greatest country in the world     Democrat\n",
      "\n",
      "[1877 rows x 2 columns]\n",
      "                                    Q21        Q1010\n",
      "0     The greatest country in the world  Independent\n",
      "1         No greater than other nations  Independent\n",
      "2     The greatest country in the world   Republican\n",
      "3     The greatest country in the world  Independent\n",
      "4     The greatest country in the world     Democrat\n",
      "...                                 ...          ...\n",
      "2103      No greater than other nations  Independent\n",
      "2104      No greater than other nations  Independent\n",
      "2105  The greatest country in the world     Democrat\n",
      "2106  The greatest country in the world     Democrat\n",
      "2107  The greatest country in the world     Democrat\n",
      "\n",
      "[2108 rows x 2 columns]\n",
      "                                    Q21        Q1010\n",
      "0     The greatest country in the world     Democrat\n",
      "1         No greater than other nations     Democrat\n",
      "2     The greatest country in the world  Independent\n",
      "3     The greatest country in the world   Republican\n",
      "4         No greater than other nations  Independent\n",
      "...                                 ...          ...\n",
      "2056      No greater than other nations     Democrat\n",
      "2057      No greater than other nations  Independent\n",
      "2058      No greater than other nations   Republican\n",
      "2059      No greater than other nations  Independent\n",
      "2060  The greatest country in the world   Republican\n",
      "\n",
      "[2061 rows x 2 columns]\n",
      "                                    Q21        Q1010\n",
      "0     The greatest country in the world   Republican\n",
      "1         No greater than other nations     Democrat\n",
      "2     The greatest country in the world   Republican\n",
      "3     The greatest country in the world      Refused\n",
      "4         No greater than other nations     Democrat\n",
      "...                                 ...          ...\n",
      "2755  The greatest country in the world   Republican\n",
      "2756      No greater than other nations     Democrat\n",
      "2757      No greater than other nations  Independent\n",
      "2758      No greater than other nations  Independent\n",
      "2759      No greater than other nations   Republican\n",
      "\n",
      "[2760 rows x 2 columns]\n",
      "                                    Q21        Q1010\n",
      "0     The greatest country in the world   Republican\n",
      "1     The greatest country in the world  Independent\n",
      "2         No greater than other nations  Independent\n",
      "3         No greater than other nations        Other\n",
      "4     The greatest country in the world   Republican\n",
      "...                                 ...          ...\n",
      "2054  The greatest country in the world  Independent\n",
      "2055      No greater than other nations  Independent\n",
      "2056  The greatest country in the world      Refused\n",
      "2057      No greater than other nations  Independent\n",
      "2058                            Refused     Democrat\n",
      "\n",
      "[2059 rows x 2 columns]\n",
      "                                    Q21        Q1010\n",
      "0         No greater than other nations  Independent\n",
      "1         No greater than other nations     Democrat\n",
      "2     The greatest country in the world   Republican\n",
      "3     The greatest country in the world   Republican\n",
      "4         No greater than other nations     Democrat\n",
      "...                                 ...          ...\n",
      "2106  The greatest country in the world     Democrat\n",
      "2107  The greatest country in the world      Refused\n",
      "2108      No greater than other nations   Republican\n",
      "2109  The greatest country in the world   Republican\n",
      "2110  The greatest country in the world        Other\n",
      "\n",
      "[2111 rows x 2 columns]\n"
     ]
    }
   ],
   "source": [
    "# Here I am iterating over the DF and checking to make sure that \n",
    "# the merge worked and that the resulting DF is the shape that I want.\n",
    "\n",
    "frames = [clean_2012df, clean_2014df, clean_2016df, clean_2017df, clean_2019df, clean_2020df]\n",
    "keys=[2012, 2014, 2016, 2017, 2019, 2020]\n",
    "all_years_df = pd.concat(frames, keys=[2012, 2014, 2016, 2017, 2019, 2020])\n",
    "\n",
    "for year in keys:\n",
    "    print(all_years_df.loc[year][['Q21', 'Q1010']])\n",
    "    "
   ]
  },
  {
   "cell_type": "code",
   "execution_count": 146,
   "metadata": {},
   "outputs": [],
   "source": [
    "# Here I am initializing some masks that select only the Q21 variable.\n",
    "\n",
    "exceptionalism_2012_mask=CCGA2012df['Q21'] == \"The greatest country in the world\"\n",
    "exceptionalism_2014_mask=CCGA2014df['q21'] == \"The greatest country in the world\"\n",
    "exceptionalism_2016_mask=CCGA2016df['Q21'] == \"The greatest country in the world\"\n",
    "exceptionalism_2017_mask=CCGA2017df['Q21'] == \"The greatest country in the world\"\n",
    "exceptionalism_2019_mask=CCGA2019df['Q21'] == \"The greatest country in the world\"\n",
    "exceptionalism_2020_mask=CCGA2020df['Q21'] == \"The greatest country in the world\""
   ]
  },
  {
   "cell_type": "code",
   "execution_count": 147,
   "metadata": {
    "scrolled": true
   },
   "outputs": [
    {
     "name": "stdout",
     "output_type": "stream",
     "text": [
      "[70.378263185935, 66.46110056925995, 62.73653566229985, 63.44202898550725, 58.76639145216125, 57.555660824253906]\n"
     ]
    }
   ],
   "source": [
    "# Here I am calculating the percentage of responses for each year that answered \"The greatest country in the world\" on Q21 \n",
    "\n",
    "sample_means_ls = [\n",
    "    ((len(CCGA2012df[exceptionalism_2012_mask])/len(CCGA2012df))*100),\n",
    "    ((len(CCGA2014df[exceptionalism_2014_mask])/len(CCGA2014df))*100),\n",
    "    ((len(CCGA2016df[exceptionalism_2016_mask])/len(CCGA2016df))*100),\n",
    "    ((len(CCGA2017df[exceptionalism_2017_mask])/len(CCGA2017df))*100),\n",
    "    ((len(CCGA2019df[exceptionalism_2019_mask])/len(CCGA2019df))*100),\n",
    "    ((len(CCGA2020df[exceptionalism_2020_mask])/len(CCGA2020df))*100)\n",
    "]\n",
    "\n",
    "print(sample_means_ls)"
   ]
  },
  {
   "cell_type": "code",
   "execution_count": 148,
   "metadata": {},
   "outputs": [
    {
     "data": {
      "text/plain": [
       "[0.7006456420162835,\n",
       " 0.6469217071957698,\n",
       " 0.610721606726692,\n",
       " 0.6291128640809741,\n",
       " 0.5670888505542082,\n",
       " 0.5427296651286607]"
      ]
     },
     "execution_count": 148,
     "metadata": {},
     "output_type": "execute_result"
    }
   ],
   "source": [
    "# To get the weighted mean I use a booleanmask to select the values that responded with \"The greatest country in the world\"\n",
    "# and put the sum of the weights of those responses over the total of the weights. Effectively treating the response of\n",
    "# \"The greatest country in the world\" as equal to 1.\n",
    "\n",
    "# weighted_mean_formula = (df[weight]*df[response as a number]).sum()/df[weight].sum()\n",
    "\n",
    "# The way that the weights are calculated can differ from year to year. 2017 had like 8 different weight variables.\n",
    "\n",
    "weighted_means_ls= [\n",
    "    CCGA2012df[exceptionalism_2012_mask]['weight1'].sum()/CCGA2012df['weight1'].sum(),\n",
    "    CCGA2014df[exceptionalism_2014_mask]['weight1'].sum()/CCGA2014df['weight1'].sum(),\n",
    "    CCGA2016df[exceptionalism_2016_mask]['Weight'].sum()/CCGA2016df['Weight'].sum(),\n",
    "    CCGA2017df[exceptionalism_2017_mask]['Weight1'].sum()/CCGA2017df['Weight1'].sum(),\n",
    "    CCGA2019df[exceptionalism_2019_mask]['weight'].sum()/CCGA2019df['weight'].sum(),\n",
    "    CCGA2020df[exceptionalism_2020_mask]['weight'].sum()/CCGA2020df['weight'].sum()\n",
    "]\n",
    "\n",
    "weighted_means_ls"
   ]
  },
  {
   "cell_type": "code",
   "execution_count": 149,
   "metadata": {},
   "outputs": [
    {
     "name": "stdout",
     "output_type": "stream",
     "text": [
      "[0.2509323388385722, 0.21726755218216318, 0.2430858806404658, 0.23478260869565218, 0.23506556580864496, 0.2567503552818569]\n",
      "[0.23175279701651572, 0.22343453510436434, 0.18922852983988356, 0.1822463768115942, 0.16415735794074793, 0.1250592136428233]\n",
      "[0.17581246670218434, 0.18311195445920303, 0.15623483745754488, 0.16847826086956522, 0.14715881495871783, 0.1605873993368072]\n"
     ]
    }
   ],
   "source": [
    "# Here I am slecting all responses that answered \"The greatest country in the world\" to Q21\n",
    "# and calculating what percent of data identifies as Republicn, Democrt, and Independent, and then \n",
    "# placing those values in a list that will be easy to plot.\n",
    "\n",
    "republican_yes_Q21_ls = [\n",
    "    len(CCGA2012df[(CCGA2012df['Q21'] == 'The greatest country in the world') & (CCGA2012df['Q1010'] == 'Republican')])/len(CCGA2012df),\n",
    "    len(CCGA2014df[(CCGA2014df['q21'] == 'The greatest country in the world') & (CCGA2014df['q1010'] == 'Republican')])/len(CCGA2014df),\n",
    "    len(CCGA2016df[(CCGA2016df['Q21'] == 'The greatest country in the world') & (CCGA2016df['Q1010'] == 'Republican')])/len(CCGA2016df),\n",
    "    len(CCGA2017df[(CCGA2017df['Q21'] == 'The greatest country in the world') & (CCGA2017df['Q1010'] == 'Republican')])/len(CCGA2017df),\n",
    "    len(CCGA2019df[(CCGA2019df['Q21'] == 'The greatest country in the world') & (CCGA2019df['Q1010'] == 'Republican')])/len(CCGA2019df),\n",
    "    len(CCGA2020df[(CCGA2020df['Q21'] == 'The greatest country in the world') & (CCGA2020df['Q1010'] == 'Republican')])/len(CCGA2020df),\n",
    "]\n",
    "\n",
    "democrat_yes_Q21_ls = [\n",
    "    len(CCGA2012df[(CCGA2012df['Q21'] == 'The greatest country in the world') & (CCGA2012df['Q1010'] == 'Democrat')])/len(CCGA2012df),\n",
    "    len(CCGA2014df[(CCGA2014df['q21'] == 'The greatest country in the world') & (CCGA2014df['q1010'] == 'Democrat')])/len(CCGA2014df),\n",
    "    len(CCGA2016df[(CCGA2016df['Q21'] == 'The greatest country in the world') & (CCGA2016df['Q1010'] == 'Democrat')])/len(CCGA2016df),\n",
    "    len(CCGA2017df[(CCGA2017df['Q21'] == 'The greatest country in the world') & (CCGA2017df['Q1010'] == 'Democrat')])/len(CCGA2017df),\n",
    "    len(CCGA2019df[(CCGA2019df['Q21'] == 'The greatest country in the world') & (CCGA2019df['Q1010'] == 'Democrat')])/len(CCGA2019df),\n",
    "    len(CCGA2020df[(CCGA2020df['Q21'] == 'The greatest country in the world') & (CCGA2020df['Q1010'] == 'Democrat')])/len(CCGA2020df),\n",
    "]\n",
    "\n",
    "independent_yes_Q21_ls = [\n",
    "    len(CCGA2012df[(CCGA2012df['Q21'] == 'The greatest country in the world') & (CCGA2012df['Q1010'] == 'Independent')])/len(CCGA2012df),\n",
    "    len(CCGA2014df[(CCGA2014df['q21'] == 'The greatest country in the world') & (CCGA2014df['q1010'] == 'Independent')])/len(CCGA2014df),\n",
    "    len(CCGA2016df[(CCGA2016df['Q21'] == 'The greatest country in the world') & (CCGA2016df['Q1010'] == 'Independent')])/len(CCGA2016df),\n",
    "    len(CCGA2017df[(CCGA2017df['Q21'] == 'The greatest country in the world') & (CCGA2017df['Q1010'] == 'Independent')])/len(CCGA2017df),\n",
    "    len(CCGA2019df[(CCGA2019df['Q21'] == 'The greatest country in the world') & (CCGA2019df['Q1010'] == 'Independent')])/len(CCGA2019df),\n",
    "    len(CCGA2020df[(CCGA2020df['Q21'] == 'The greatest country in the world') & (CCGA2020df['Q1010'] == 'Independent')])/len(CCGA2020df),\n",
    "]\n",
    "\n",
    "print(republican_yes_Q21_ls)\n",
    "print(democrat_yes_Q21_ls)\n",
    "print(independent_yes_Q21_ls)"
   ]
  },
  {
   "cell_type": "code",
   "execution_count": 150,
   "metadata": {},
   "outputs": [],
   "source": [
    "%matplotlib inline"
   ]
  },
  {
   "cell_type": "code",
   "execution_count": 151,
   "metadata": {},
   "outputs": [
    {
     "data": {
      "text/plain": [
       "'module://ipykernel.pylab.backend_inline'"
      ]
     },
     "execution_count": 151,
     "metadata": {},
     "output_type": "execute_result"
    }
   ],
   "source": [
    "import matplotlib as mpl\n",
    "mpl.get_backend()"
   ]
  },
  {
   "cell_type": "code",
   "execution_count": 152,
   "metadata": {},
   "outputs": [],
   "source": [
    "import matplotlib.pyplot as plt\n",
    "import numpy as np"
   ]
  },
  {
   "cell_type": "code",
   "execution_count": 153,
   "metadata": {
    "scrolled": true
   },
   "outputs": [
    {
     "name": "stdout",
     "output_type": "stream",
     "text": [
      "r =  -0.9692033716593726 \n",
      " p =  0.0014080442169373314 \n",
      " s =  0.002319105528860694\n"
     ]
    },
    {
     "data": {
      "image/png": "[encoded data removed]",
      "text/plain": [
       "<Figure size 432x288 with 1 Axes>"
      ]
     },
     "metadata": {
      "needs_background": "light"
     },
     "output_type": "display_data"
    }
   ],
   "source": [
    "years_ls = [2012, 2014, 2016, 2017, 2019, 2020]\n",
    "plt.figure()\n",
    "plt.plot(years_ls, weighted_means_ls, '-o')\n",
    "plt.ylim([0,1])\n",
    "plt.yticks(np.arange(0, 1.1, 0.1))\n",
    "plt.xlabel('Year of the CCGA Survey')\n",
    "plt.ylabel(r'$\\bar{x}$ of cases that answered ''Yes'' to Q21')\n",
    "plt.title('Public support for American Exceptionalism since 2012')\n",
    "plt.grid(linestyle='-.')\n",
    "y = weighted_means_ls\n",
    "x = years_ls\n",
    "slope, intercept, r_value, p_value, std_err =sp.linregress(x,y)\n",
    "print('r = ', r_value, '\\n', 'p = ', p_value, '\\n', 's = ', std_err)\n",
    "\n",
    "x_0=2011\n",
    "y_0=(x_0*slope)+intercept\n",
    "x_1=2021\n",
    "y_1=(x_1*slope)+intercept\n",
    "\n",
    "plt.plot([x_0, x_1], [y_0, y_1], c='r')\n",
    "\n",
    "plt.show()"
   ]
  },
  {
   "cell_type": "markdown",
   "metadata": {},
   "source": [
    "## In the above figure, I have plotted the percentage of 'yes' responses on a scatter plot with the X variable being the year of the CCGA survey. I then performed a linear regression on these points to get a predictive model for 'American Exceptionalism' over time. The model gave us an r value = -0.969, p value = 0.001, and an s value = 0.002. The model has a low p value which indicates a low probability that this data is the result of random chance and thus can be treated as statistically significant. The r value indicates that variation in Y, (the percent of responses that answered 'Yes',) is greatly explained by X, (the year of the CCGA survey.) Because of this, we can conclude that the model fits the data well."
   ]
  },
  {
   "cell_type": "code",
   "execution_count": 154,
   "metadata": {
    "scrolled": true
   },
   "outputs": [
    {
     "data": {
      "image/png": "[encoded data removed]",
      "text/plain": [
       "<Figure size 432x288 with 1 Axes>"
      ]
     },
     "metadata": {
      "needs_background": "light"
     },
     "output_type": "display_data"
    }
   ],
   "source": [
    "width =0.3\n",
    "plt.figure()\n",
    "plt.bar([2011.7, 2013.7, 2015.7, 2016.7, 2018.7, 2019.7], republican_yes_Q21_ls, color='tab:red', width=width)\n",
    "plt.bar(years_ls, democrat_yes_Q21_ls, color='tab:blue', width=width)\n",
    "plt.bar([2012.3, 2014.3, 2016.3, 2017.3, 2019.3, 2020.3], independent_yes_Q21_ls, color='silver', width=width)\n",
    "plt.xticks(ticks=years_ls)\n",
    "plt.legend(['Republican', 'Democrat', 'Independent'], loc=\"lower left\", framealpha=1)\n",
    "plt.ylabel('Percent of those that answered \\'Yes\\'')\n",
    "plt.xlabel('Year of CCGA Suervey Data')\n",
    "plt.title('Of those that answered \\'Yes\\' to Q21, what are the political identities?')\n",
    "plt.show()"
   ]
  },
  {
   "cell_type": "markdown",
   "metadata": {},
   "source": [
    "## Not displayed in the above figure are the values for \"Refused\" and \"Other\" as responses to Q1010. \n",
    "\n",
    "## In the above figure, I have isolated only 'Yes' responses to Q21 and calculated what percentage of those cases are Republican, Democrat, and Independent. From the figure, we can see that Democrats consistently make up a smaller proportion of 'Yes' answers to Q21 year over year."
   ]
  },
  {
   "cell_type": "code",
   "execution_count": 155,
   "metadata": {},
   "outputs": [
    {
     "data": {
      "text/html": [
       "<div>\n",
       "<style scoped>\n",
       "    .dataframe tbody tr th:only-of-type {\n",
       "        vertical-align: middle;\n",
       "    }\n",
       "\n",
       "    .dataframe tbody tr th {\n",
       "        vertical-align: top;\n",
       "    }\n",
       "\n",
       "    .dataframe thead th {\n",
       "        text-align: right;\n",
       "    }\n",
       "</style>\n",
       "<table border=\"1\" class=\"dataframe\">\n",
       "  <thead>\n",
       "    <tr style=\"text-align: right;\">\n",
       "      <th>Q21</th>\n",
       "      <th>No greater than other nations</th>\n",
       "      <th>Refused</th>\n",
       "      <th>The greatest country in the world</th>\n",
       "    </tr>\n",
       "    <tr>\n",
       "      <th>Q1010</th>\n",
       "      <th></th>\n",
       "      <th></th>\n",
       "      <th></th>\n",
       "    </tr>\n",
       "  </thead>\n",
       "  <tbody>\n",
       "    <tr>\n",
       "      <th>Democrat</th>\n",
       "      <td>2031</td>\n",
       "      <td>37</td>\n",
       "      <td>2401</td>\n",
       "    </tr>\n",
       "    <tr>\n",
       "      <th>Independent</th>\n",
       "      <td>1467</td>\n",
       "      <td>29</td>\n",
       "      <td>2145</td>\n",
       "    </tr>\n",
       "    <tr>\n",
       "      <th>Other</th>\n",
       "      <td>435</td>\n",
       "      <td>17</td>\n",
       "      <td>423</td>\n",
       "    </tr>\n",
       "    <tr>\n",
       "      <th>Refused</th>\n",
       "      <td>70</td>\n",
       "      <td>15</td>\n",
       "      <td>118</td>\n",
       "    </tr>\n",
       "    <tr>\n",
       "      <th>Republican</th>\n",
       "      <td>664</td>\n",
       "      <td>20</td>\n",
       "      <td>3104</td>\n",
       "    </tr>\n",
       "  </tbody>\n",
       "</table>\n",
       "</div>"
      ],
      "text/plain": [
       "Q21          No greater than other nations  Refused  \\\n",
       "Q1010                                                 \n",
       "Democrat                              2031       37   \n",
       "Independent                           1467       29   \n",
       "Other                                  435       17   \n",
       "Refused                                 70       15   \n",
       "Republican                             664       20   \n",
       "\n",
       "Q21          The greatest country in the world  \n",
       "Q1010                                           \n",
       "Democrat                                  2401  \n",
       "Independent                               2145  \n",
       "Other                                      423  \n",
       "Refused                                    118  \n",
       "Republican                                3104  "
      ]
     },
     "execution_count": 155,
     "metadata": {},
     "output_type": "execute_result"
    }
   ],
   "source": [
    "crosstab = pd.crosstab(all_years_df['Q1010'], all_years_df[\"Q21\"])\n",
    "crosstab"
   ]
  },
  {
   "cell_type": "code",
   "execution_count": 156,
   "metadata": {},
   "outputs": [
    {
     "data": {
      "text/plain": [
       "(962.0087423720715,\n",
       " 2.3629967165003227e-202,\n",
       " 8,\n",
       " array([[1.60733839e+03, 4.06397965e+01, 2.82102181e+03],\n",
       "        [1.30953661e+03, 3.31102035e+01, 2.29835319e+03],\n",
       "        [3.14705996e+02, 7.95699753e+00, 5.52337007e+02],\n",
       "        [7.30117910e+01, 1.84602343e+00, 1.28142186e+02],\n",
       "        [1.36240721e+03, 3.44469790e+01, 2.39114581e+03]]))"
      ]
     },
     "execution_count": 156,
     "metadata": {},
     "output_type": "execute_result"
    }
   ],
   "source": [
    "sp.chi2_contingency(crosstab)"
   ]
  },
  {
   "cell_type": "markdown",
   "metadata": {},
   "source": [
    "## In the cells above, I created a crosstab of party identity and responses to Q21 for all years of CCGA data and performed a chi2 test of independence.\n",
    "\n",
    "## H0: (null hypothesis) Q21 (support for American Exceptionalism) and Q1010 (party identity) are independent.\n",
    "## H1: (alternative hypothesis) Q21 and Q1010 are not independent.\n",
    "## alpha level = 0.05\n",
    "\n",
    "## The test resulted in a p value =  2.3629967165003227e-202 which is incredibly small and allows us to reject the null hypothesis and conclude that Q21 and Q1010 are not independent. "
   ]
  },
  {
   "cell_type": "code",
   "execution_count": 179,
   "metadata": {},
   "outputs": [
    {
     "name": "stderr",
     "output_type": "stream",
     "text": [
      "<ipython-input-179-b533b540caa1>:3: SettingWithCopyWarning: \n",
      "A value is trying to be set on a copy of a slice from a DataFrame.\n",
      "Try using .loc[row_indexer,col_indexer] = value instead\n",
      "\n",
      "See the caveats in the documentation: https://pandas.pydata.org/pandas-docs/stable/user_guide/indexing.html#returning-a-view-versus-a-copy\n",
      "  df_2['Q21'] = df_2['Q21'].replace({'The greatest country in the world':1, 'No greater than other nations':0})\n"
     ]
    },
    {
     "data": {
      "text/html": [
       "<div>\n",
       "<style scoped>\n",
       "    .dataframe tbody tr th:only-of-type {\n",
       "        vertical-align: middle;\n",
       "    }\n",
       "\n",
       "    .dataframe tbody tr th {\n",
       "        vertical-align: top;\n",
       "    }\n",
       "\n",
       "    .dataframe thead th {\n",
       "        text-align: right;\n",
       "    }\n",
       "</style>\n",
       "<table border=\"1\" class=\"dataframe\">\n",
       "  <thead>\n",
       "    <tr style=\"text-align: right;\">\n",
       "      <th></th>\n",
       "      <th></th>\n",
       "      <th>CaseID</th>\n",
       "      <th>Q21</th>\n",
       "      <th>Q1010</th>\n",
       "      <th>Weight</th>\n",
       "      <th>PPGENDER</th>\n",
       "      <th>PPETHM</th>\n",
       "      <th>ppagect4</th>\n",
       "    </tr>\n",
       "  </thead>\n",
       "  <tbody>\n",
       "    <tr>\n",
       "      <th rowspan=\"5\" valign=\"top\">2012</th>\n",
       "      <th>1</th>\n",
       "      <td>3.0</td>\n",
       "      <td>0</td>\n",
       "      <td>Democrat</td>\n",
       "      <td>0.5272</td>\n",
       "      <td>Female</td>\n",
       "      <td>Black, Non-Hispanic</td>\n",
       "      <td>30-44</td>\n",
       "    </tr>\n",
       "    <tr>\n",
       "      <th>3</th>\n",
       "      <td>5.0</td>\n",
       "      <td>1</td>\n",
       "      <td>Republican</td>\n",
       "      <td>2.6578</td>\n",
       "      <td>Male</td>\n",
       "      <td>White, Non-Hispanic</td>\n",
       "      <td>45-59</td>\n",
       "    </tr>\n",
       "    <tr>\n",
       "      <th>4</th>\n",
       "      <td>6.0</td>\n",
       "      <td>1</td>\n",
       "      <td>Republican</td>\n",
       "      <td>0.3487</td>\n",
       "      <td>Female</td>\n",
       "      <td>White, Non-Hispanic</td>\n",
       "      <td>60+</td>\n",
       "    </tr>\n",
       "    <tr>\n",
       "      <th>5</th>\n",
       "      <td>9.0</td>\n",
       "      <td>1</td>\n",
       "      <td>Republican</td>\n",
       "      <td>0.3435</td>\n",
       "      <td>Male</td>\n",
       "      <td>White, Non-Hispanic</td>\n",
       "      <td>60+</td>\n",
       "    </tr>\n",
       "    <tr>\n",
       "      <th>7</th>\n",
       "      <td>12.0</td>\n",
       "      <td>1</td>\n",
       "      <td>Democrat</td>\n",
       "      <td>2.5504</td>\n",
       "      <td>Male</td>\n",
       "      <td>Hispanic</td>\n",
       "      <td>30-44</td>\n",
       "    </tr>\n",
       "    <tr>\n",
       "      <th>...</th>\n",
       "      <th>...</th>\n",
       "      <td>...</td>\n",
       "      <td>...</td>\n",
       "      <td>...</td>\n",
       "      <td>...</td>\n",
       "      <td>...</td>\n",
       "      <td>...</td>\n",
       "      <td>...</td>\n",
       "    </tr>\n",
       "    <tr>\n",
       "      <th rowspan=\"5\" valign=\"top\">2020</th>\n",
       "      <th>2102</th>\n",
       "      <td>2199.0</td>\n",
       "      <td>1</td>\n",
       "      <td>Republican</td>\n",
       "      <td>0.5933</td>\n",
       "      <td>Male</td>\n",
       "      <td>White, Non-Hispanic</td>\n",
       "      <td>45-59</td>\n",
       "    </tr>\n",
       "    <tr>\n",
       "      <th>2104</th>\n",
       "      <td>2201.0</td>\n",
       "      <td>0</td>\n",
       "      <td>Republican</td>\n",
       "      <td>0.6941</td>\n",
       "      <td>Male</td>\n",
       "      <td>White, Non-Hispanic</td>\n",
       "      <td>60+</td>\n",
       "    </tr>\n",
       "    <tr>\n",
       "      <th>2106</th>\n",
       "      <td>2203.0</td>\n",
       "      <td>1</td>\n",
       "      <td>Democrat</td>\n",
       "      <td>1.2401</td>\n",
       "      <td>Male</td>\n",
       "      <td>Black, Non-Hispanic</td>\n",
       "      <td>30-44</td>\n",
       "    </tr>\n",
       "    <tr>\n",
       "      <th>2108</th>\n",
       "      <td>2205.0</td>\n",
       "      <td>0</td>\n",
       "      <td>Republican</td>\n",
       "      <td>0.6626</td>\n",
       "      <td>Male</td>\n",
       "      <td>White, Non-Hispanic</td>\n",
       "      <td>60+</td>\n",
       "    </tr>\n",
       "    <tr>\n",
       "      <th>2109</th>\n",
       "      <td>2206.0</td>\n",
       "      <td>1</td>\n",
       "      <td>Republican</td>\n",
       "      <td>0.9713</td>\n",
       "      <td>Female</td>\n",
       "      <td>White, Non-Hispanic</td>\n",
       "      <td>30-44</td>\n",
       "    </tr>\n",
       "  </tbody>\n",
       "</table>\n",
       "<p>8200 rows × 7 columns</p>\n",
       "</div>"
      ],
      "text/plain": [
       "           CaseID  Q21       Q1010  Weight PPGENDER               PPETHM  \\\n",
       "2012 1        3.0    0    Democrat  0.5272   Female  Black, Non-Hispanic   \n",
       "     3        5.0    1  Republican  2.6578     Male  White, Non-Hispanic   \n",
       "     4        6.0    1  Republican  0.3487   Female  White, Non-Hispanic   \n",
       "     5        9.0    1  Republican  0.3435     Male  White, Non-Hispanic   \n",
       "     7       12.0    1    Democrat  2.5504     Male             Hispanic   \n",
       "...           ...  ...         ...     ...      ...                  ...   \n",
       "2020 2102  2199.0    1  Republican  0.5933     Male  White, Non-Hispanic   \n",
       "     2104  2201.0    0  Republican  0.6941     Male  White, Non-Hispanic   \n",
       "     2106  2203.0    1    Democrat  1.2401     Male  Black, Non-Hispanic   \n",
       "     2108  2205.0    0  Republican  0.6626     Male  White, Non-Hispanic   \n",
       "     2109  2206.0    1  Republican  0.9713   Female  White, Non-Hispanic   \n",
       "\n",
       "          ppagect4  \n",
       "2012 1       30-44  \n",
       "     3       45-59  \n",
       "     4         60+  \n",
       "     5         60+  \n",
       "     7       30-44  \n",
       "...            ...  \n",
       "2020 2102    45-59  \n",
       "     2104      60+  \n",
       "     2106    30-44  \n",
       "     2108      60+  \n",
       "     2109    30-44  \n",
       "\n",
       "[8200 rows x 7 columns]"
      ]
     },
     "execution_count": 179,
     "metadata": {},
     "output_type": "execute_result"
    }
   ],
   "source": [
    "df_1 = all_years_df.loc[(all_years_df['Q21'] == 'No greater than other nations') | (all_years_df['Q21'] == 'The greatest country in the world')]\n",
    "df_2 = df_1.loc[(df_1['Q1010'] == 'Republican') | (df_1['Q1010']== 'Democrat')]\n",
    "df_2['Q21'] = df_2['Q21'].replace({'The greatest country in the world':1, 'No greater than other nations':0})\n",
    "df_2\n"
   ]
  },
  {
   "cell_type": "code",
   "execution_count": 180,
   "metadata": {},
   "outputs": [
    {
     "data": {
      "text/html": [
       "<div>\n",
       "<style scoped>\n",
       "    .dataframe tbody tr th:only-of-type {\n",
       "        vertical-align: middle;\n",
       "    }\n",
       "\n",
       "    .dataframe tbody tr th {\n",
       "        vertical-align: top;\n",
       "    }\n",
       "\n",
       "    .dataframe thead th {\n",
       "        text-align: right;\n",
       "    }\n",
       "</style>\n",
       "<table border=\"1\" class=\"dataframe\">\n",
       "  <thead>\n",
       "    <tr style=\"text-align: right;\">\n",
       "      <th>Q1010</th>\n",
       "      <th>Democrat</th>\n",
       "      <th>Republican</th>\n",
       "    </tr>\n",
       "    <tr>\n",
       "      <th>Q21</th>\n",
       "      <th></th>\n",
       "      <th></th>\n",
       "    </tr>\n",
       "  </thead>\n",
       "  <tbody>\n",
       "    <tr>\n",
       "      <th>0</th>\n",
       "      <td>2031</td>\n",
       "      <td>664</td>\n",
       "    </tr>\n",
       "    <tr>\n",
       "      <th>1</th>\n",
       "      <td>2401</td>\n",
       "      <td>3104</td>\n",
       "    </tr>\n",
       "  </tbody>\n",
       "</table>\n",
       "</div>"
      ],
      "text/plain": [
       "Q1010  Democrat  Republican\n",
       "Q21                        \n",
       "0          2031         664\n",
       "1          2401        3104"
      ]
     },
     "execution_count": 180,
     "metadata": {},
     "output_type": "execute_result"
    }
   ],
   "source": [
    "contingency_table = pd.crosstab(df_2['Q21'],df_2['Q1010'])\n",
    "contingency_table"
   ]
  },
  {
   "cell_type": "code",
   "execution_count": 182,
   "metadata": {},
   "outputs": [
    {
     "name": "stdout",
     "output_type": "stream",
     "text": [
      "734.2121234611727 1.0871836006085782e-161 1\n"
     ]
    }
   ],
   "source": [
    "(chi2, p, df, arr) = sp.chi2_contingency(contingency_table, correction = False)\n",
    "print(chi2, p, df)"
   ]
  },
  {
   "cell_type": "code",
   "execution_count": null,
   "metadata": {},
   "outputs": [],
   "source": []
  }
 ],
 "metadata": {
  "kernelspec": {
   "display_name": "Python 3",
   "language": "python",
   "name": "python3"
  },
  "language_info": {
   "codemirror_mode": {
    "name": "ipython",
    "version": 3
   },
   "file_extension": ".py",
   "mimetype": "text/x-python",
   "name": "python",
   "nbconvert_exporter": "python",
   "pygments_lexer": "ipython3",
   "version": "3.8.3"
  }
 },
 "nbformat": 4,
 "nbformat_minor": 4
}
