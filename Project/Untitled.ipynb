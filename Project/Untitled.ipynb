{
 "cells": [
  {
   "cell_type": "code",
   "execution_count": 1,
   "metadata": {},
   "outputs": [],
   "source": [
    "import pandas as pd\n",
    "import pyreadstat\n",
    "#pyreadstat is not an optional dependency despite the importerror messages saying so. I tried installing it with conda but it\n",
    "#said that the package was unavailable. I installed it using pip and had success. I'm not sure if using the two different \n",
    "#package managers will cause problems."
   ]
  },
  {
   "cell_type": "code",
   "execution_count": 2,
   "metadata": {},
   "outputs": [],
   "source": [
    "CCGA2012df = pd.read_spss('SPSSdataFiles\\\\2012public.sav')\n",
    "CCGA2014df = pd.read_spss('SPSSdataFiles\\\\2014public.sav')\n",
    "CCGA2016df = pd.read_spss('SPSSdataFiles\\\\2016ChicagoCouncilSurvey-DataSet.sav')\n",
    "CCGA2017df = pd.read_spss('SPSSdataFiles\\\\2017public.sav')\n",
    "#CCGA2018df = pd.read_spss('SPSSdataFiles\\\\2018public.sav')\n",
    "#I thought that Q21 was asked in 2018 but I was mistaken.\n",
    "CCGA2019df = pd.read_spss('SPSSdataFiles\\\\2019 Chicago Council Survey - Datafile.sav')\n",
    "CCGA2020df = pd.read_spss('SPSSdataFiles\\\\20-039675-01_Chicago Council_2020 Annual Survey_Main_Client.sav')"
   ]
  },
  {
   "cell_type": "code",
   "execution_count": 41,
   "metadata": {},
   "outputs": [
    {
     "data": {
      "text/plain": [
       "0        No greater than other nations\n",
       "1        No greater than other nations\n",
       "2    The greatest country in the world\n",
       "3    The greatest country in the world\n",
       "4    The greatest country in the world\n",
       "5    The greatest country in the world\n",
       "Name: Q21, dtype: category\n",
       "Categories (3, object): [No greater than other nations, Refused, The greatest country in the world]"
      ]
     },
     "execution_count": 41,
     "metadata": {},
     "output_type": "execute_result"
    }
   ],
   "source": [
    "CCGA2012df.loc[:5,'Q21']"
   ]
  },
  {
   "cell_type": "code",
   "execution_count": 30,
   "metadata": {},
   "outputs": [
    {
     "data": {
      "text/plain": [
       "0    The greatest country in the world\n",
       "1        No greater than other nations\n",
       "2    The greatest country in the world\n",
       "3    The greatest country in the world\n",
       "4    The greatest country in the world\n",
       "5    The greatest country in the world\n",
       "Name: q21, dtype: category\n",
       "Categories (3, object): [No greater than other nations, Refused, The greatest country in the world]"
      ]
     },
     "execution_count": 30,
     "metadata": {},
     "output_type": "execute_result"
    }
   ],
   "source": [
    "CCGA2014df.loc[:5, 'q21']\n",
    "#print(list(CCGA2014df))"
   ]
  },
  {
   "cell_type": "code",
   "execution_count": 31,
   "metadata": {},
   "outputs": [
    {
     "data": {
      "text/plain": [
       "0    The greatest country in the world\n",
       "1        No greater than other nations\n",
       "2    The greatest country in the world\n",
       "3    The greatest country in the world\n",
       "4        No greater than other nations\n",
       "5        No greater than other nations\n",
       "Name: Q21, dtype: category\n",
       "Categories (3, object): [No greater than other nations, Refused, The greatest country in the world]"
      ]
     },
     "execution_count": 31,
     "metadata": {},
     "output_type": "execute_result"
    }
   ],
   "source": [
    "CCGA2016df.loc[:5, 'Q21']"
   ]
  },
  {
   "cell_type": "code",
   "execution_count": 32,
   "metadata": {},
   "outputs": [
    {
     "data": {
      "text/plain": [
       "0    The greatest country in the world\n",
       "1        No greater than other nations\n",
       "2    The greatest country in the world\n",
       "3    The greatest country in the world\n",
       "4        No greater than other nations\n",
       "5        No greater than other nations\n",
       "Name: Q21, dtype: category\n",
       "Categories (3, object): [No greater than other nations, Refused, The greatest country in the world]"
      ]
     },
     "execution_count": 32,
     "metadata": {},
     "output_type": "execute_result"
    }
   ],
   "source": [
    "CCGA2017df.loc[:5, 'Q21']"
   ]
  },
  {
   "cell_type": "code",
   "execution_count": 33,
   "metadata": {},
   "outputs": [],
   "source": [
    "#print(list(CCGA2018df))\n",
    "#CCGA2018df.loc[:2, 'q21']"
   ]
  },
  {
   "cell_type": "code",
   "execution_count": 34,
   "metadata": {},
   "outputs": [
    {
     "data": {
      "text/plain": [
       "0    The greatest country in the world\n",
       "1    The greatest country in the world\n",
       "2        No greater than other nations\n",
       "3        No greater than other nations\n",
       "4    The greatest country in the world\n",
       "5        No greater than other nations\n",
       "Name: Q21, dtype: category\n",
       "Categories (3, object): [No greater than other nations, Refused, The greatest country in the world]"
      ]
     },
     "execution_count": 34,
     "metadata": {},
     "output_type": "execute_result"
    }
   ],
   "source": [
    "CCGA2019df.loc[:5, 'Q21']"
   ]
  },
  {
   "cell_type": "code",
   "execution_count": 35,
   "metadata": {},
   "outputs": [
    {
     "data": {
      "text/plain": [
       "0        No greater than other nations\n",
       "1        No greater than other nations\n",
       "2    The greatest country in the world\n",
       "3    The greatest country in the world\n",
       "4        No greater than other nations\n",
       "5        No greater than other nations\n",
       "Name: Q21, dtype: category\n",
       "Categories (3, object): [No greater than other nations, Refused, The greatest country in the world]"
      ]
     },
     "execution_count": 35,
     "metadata": {},
     "output_type": "execute_result"
    }
   ],
   "source": [
    "CCGA2020df.loc[:5, 'Q21']"
   ]
  },
  {
   "cell_type": "code",
   "execution_count": null,
   "metadata": {},
   "outputs": [],
   "source": []
  }
 ],
 "metadata": {
  "kernelspec": {
   "display_name": "Python 3",
   "language": "python",
   "name": "python3"
  },
  "language_info": {
   "codemirror_mode": {
    "name": "ipython",
    "version": 3
   },
   "file_extension": ".py",
   "mimetype": "text/x-python",
   "name": "python",
   "nbconvert_exporter": "python",
   "pygments_lexer": "ipython3",
   "version": "3.8.3"
  }
 },
 "nbformat": 4,
 "nbformat_minor": 4
}
